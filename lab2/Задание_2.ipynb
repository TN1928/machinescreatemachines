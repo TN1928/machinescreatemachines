{
  "nbformat": 4,
  "nbformat_minor": 0,
  "metadata": {
    "colab": {
      "provenance": [],
      "include_colab_link": true
    },
    "kernelspec": {
      "name": "python3",
      "display_name": "Python 3"
    },
    "language_info": {
      "name": "python"
    }
  },
  "cells": [
    {
      "cell_type": "markdown",
      "metadata": {
        "id": "view-in-github",
        "colab_type": "text"
      },
      "source": [
        "<a href=\"https://colab.research.google.com/github/TN1928/machinescreatemachines/blob/main/lab2/%D0%97%D0%B0%D0%B4%D0%B0%D0%BD%D0%B8%D0%B5_2.ipynb\" target=\"_parent\"><img src=\"https://colab.research.google.com/assets/colab-badge.svg\" alt=\"Open In Colab\"/></a>"
      ]
    },
    {
      "cell_type": "markdown",
      "source": [
        "#Задание по практике 2"
      ],
      "metadata": {
        "id": "_dGfjiUjUNab"
      }
    },
    {
      "cell_type": "code",
      "source": [
        "!pip install pandas\n",
        "!pip install seaborn"
      ],
      "metadata": {
        "id": "wXXP-hXKrxPW",
        "outputId": "88c74593-13d8-48f6-99a7-0144316f7107",
        "colab": {
          "base_uri": "https://localhost:8080/"
        }
      },
      "execution_count": 1,
      "outputs": [
        {
          "output_type": "stream",
          "name": "stdout",
          "text": [
            "Requirement already satisfied: pandas in /usr/local/lib/python3.10/dist-packages (1.5.3)\n",
            "Requirement already satisfied: python-dateutil>=2.8.1 in /usr/local/lib/python3.10/dist-packages (from pandas) (2.8.2)\n",
            "Requirement already satisfied: pytz>=2020.1 in /usr/local/lib/python3.10/dist-packages (from pandas) (2023.3.post1)\n",
            "Requirement already satisfied: numpy>=1.21.0 in /usr/local/lib/python3.10/dist-packages (from pandas) (1.23.5)\n",
            "Requirement already satisfied: six>=1.5 in /usr/local/lib/python3.10/dist-packages (from python-dateutil>=2.8.1->pandas) (1.16.0)\n",
            "Requirement already satisfied: seaborn in /usr/local/lib/python3.10/dist-packages (0.13.1)\n",
            "Requirement already satisfied: numpy!=1.24.0,>=1.20 in /usr/local/lib/python3.10/dist-packages (from seaborn) (1.23.5)\n",
            "Requirement already satisfied: pandas>=1.2 in /usr/local/lib/python3.10/dist-packages (from seaborn) (1.5.3)\n",
            "Requirement already satisfied: matplotlib!=3.6.1,>=3.4 in /usr/local/lib/python3.10/dist-packages (from seaborn) (3.7.1)\n",
            "Requirement already satisfied: contourpy>=1.0.1 in /usr/local/lib/python3.10/dist-packages (from matplotlib!=3.6.1,>=3.4->seaborn) (1.2.0)\n",
            "Requirement already satisfied: cycler>=0.10 in /usr/local/lib/python3.10/dist-packages (from matplotlib!=3.6.1,>=3.4->seaborn) (0.12.1)\n",
            "Requirement already satisfied: fonttools>=4.22.0 in /usr/local/lib/python3.10/dist-packages (from matplotlib!=3.6.1,>=3.4->seaborn) (4.47.2)\n",
            "Requirement already satisfied: kiwisolver>=1.0.1 in /usr/local/lib/python3.10/dist-packages (from matplotlib!=3.6.1,>=3.4->seaborn) (1.4.5)\n",
            "Requirement already satisfied: packaging>=20.0 in /usr/local/lib/python3.10/dist-packages (from matplotlib!=3.6.1,>=3.4->seaborn) (23.2)\n",
            "Requirement already satisfied: pillow>=6.2.0 in /usr/local/lib/python3.10/dist-packages (from matplotlib!=3.6.1,>=3.4->seaborn) (9.4.0)\n",
            "Requirement already satisfied: pyparsing>=2.3.1 in /usr/local/lib/python3.10/dist-packages (from matplotlib!=3.6.1,>=3.4->seaborn) (3.1.1)\n",
            "Requirement already satisfied: python-dateutil>=2.7 in /usr/local/lib/python3.10/dist-packages (from matplotlib!=3.6.1,>=3.4->seaborn) (2.8.2)\n",
            "Requirement already satisfied: pytz>=2020.1 in /usr/local/lib/python3.10/dist-packages (from pandas>=1.2->seaborn) (2023.3.post1)\n",
            "Requirement already satisfied: six>=1.5 in /usr/local/lib/python3.10/dist-packages (from python-dateutil>=2.7->matplotlib!=3.6.1,>=3.4->seaborn) (1.16.0)\n"
          ]
        }
      ]
    },
    {
      "cell_type": "code",
      "execution_count": 24,
      "metadata": {
        "id": "7u0VPzz-UKNu"
      },
      "outputs": [],
      "source": [
        "import pandas as pd\n",
        "import seaborn as sns\n",
        "import matplotlib.pyplot as plt\n",
        "import numpy as np"
      ]
    },
    {
      "cell_type": "markdown",
      "source": [
        "##Введение в описательную статистику"
      ],
      "metadata": {
        "id": "yKPA-E-VVSS-"
      }
    },
    {
      "cell_type": "markdown",
      "source": [
        "1. Выберите категориальную целевую переменную (**Y**)\n",
        "\n",
        "2. Выберите переменную для анализа относительно категории (**X**)\n",
        "\n",
        "3. Выведитие обобщенную статистическую информацию переменной (**X**)\n",
        "\n",
        "2. Вычислите среднее, медиану, моду, минимум, максимум, стандартное отклонение относительно целевой пременной из файла Classification datasets в соответствии с вашим вариантом\n",
        "\n",
        "3. Сделайте вывод относительно полученных результатов\n",
        "\n",
        "p.s если у вас нет категориальных признаков - преобразуйте любой числовой в категориальный (https://pandas.pydata.org/docs/reference/api/pandas.cut.html). Важно **не** использовать преобразованный Y вместе с этим же X (то есть, если вы преобразовали возраст в категорию, то вы не моежет использовать возраст в качестве X и возраст категорию в качестве Y)"
      ],
      "metadata": {
        "id": "Rrr4WPcGUwOx"
      }
    },
    {
      "cell_type": "code",
      "source": [
        "df = pd.read_csv(\"/content/crimes_against_women_2001-2014.csv\")\n",
        "df"
      ],
      "metadata": {
        "id": "wZiCpTwgUuYw",
        "outputId": "be786743-da53-481d-bd4d-dca5721776b9",
        "colab": {
          "base_uri": "https://localhost:8080/",
          "height": 528
        }
      },
      "execution_count": 3,
      "outputs": [
        {
          "output_type": "execute_result",
          "data": {
            "text/plain": [
              "       Unnamed: 0        STATE/UT           DISTRICT  Year  Rape  \\\n",
              "0               0  ANDHRA PRADESH           ADILABAD  2001    50   \n",
              "1               1  ANDHRA PRADESH          ANANTAPUR  2001    23   \n",
              "2               2  ANDHRA PRADESH           CHITTOOR  2001    27   \n",
              "3               3  ANDHRA PRADESH           CUDDAPAH  2001    20   \n",
              "4               4  ANDHRA PRADESH      EAST GODAVARI  2001    23   \n",
              "...           ...             ...                ...   ...   ...   \n",
              "10672         832     Lakshadweep        Lakshadweep  2014     1   \n",
              "10673         833     Lakshadweep  Total District(s)  2014     1   \n",
              "10674         834      Puducherry           Karaikal  2014     3   \n",
              "10675         835      Puducherry         Puducherry  2014     7   \n",
              "10676         836      Puducherry  Total District(s)  2014    10   \n",
              "\n",
              "       Kidnapping and Abduction  Dowry Deaths  \\\n",
              "0                            30            16   \n",
              "1                            30             7   \n",
              "2                            34            14   \n",
              "3                            20            17   \n",
              "4                            26            12   \n",
              "...                         ...           ...   \n",
              "10672                         0             0   \n",
              "10673                         0             0   \n",
              "10674                         1             0   \n",
              "10675                         6             1   \n",
              "10676                         7             1   \n",
              "\n",
              "       Assault on women with intent to outrage her modesty  \\\n",
              "0                                                    149     \n",
              "1                                                    118     \n",
              "2                                                    112     \n",
              "3                                                    126     \n",
              "4                                                    109     \n",
              "...                                                  ...     \n",
              "10672                                                  1     \n",
              "10673                                                  1     \n",
              "10674                                                 12     \n",
              "10675                                                 20     \n",
              "10676                                                 32     \n",
              "\n",
              "       Insult to modesty of Women  Cruelty by Husband or his Relatives  \\\n",
              "0                              34                                  175   \n",
              "1                              24                                  154   \n",
              "2                              83                                  186   \n",
              "3                              38                                   57   \n",
              "4                              58                                  247   \n",
              "...                           ...                                  ...   \n",
              "10672                           2                                    0   \n",
              "10673                           2                                    0   \n",
              "10674                           1                                    1   \n",
              "10675                           7                                    3   \n",
              "10676                           8                                    4   \n",
              "\n",
              "       Importation of Girls  \n",
              "0                         0  \n",
              "1                         0  \n",
              "2                         0  \n",
              "3                         0  \n",
              "4                         0  \n",
              "...                     ...  \n",
              "10672                     0  \n",
              "10673                     0  \n",
              "10674                     0  \n",
              "10675                     0  \n",
              "10676                     0  \n",
              "\n",
              "[10677 rows x 11 columns]"
            ],
            "text/html": [
              "\n",
              "  <div id=\"df-32b5e80b-a4ec-4562-b2e5-732853f57e76\" class=\"colab-df-container\">\n",
              "    <div>\n",
              "<style scoped>\n",
              "    .dataframe tbody tr th:only-of-type {\n",
              "        vertical-align: middle;\n",
              "    }\n",
              "\n",
              "    .dataframe tbody tr th {\n",
              "        vertical-align: top;\n",
              "    }\n",
              "\n",
              "    .dataframe thead th {\n",
              "        text-align: right;\n",
              "    }\n",
              "</style>\n",
              "<table border=\"1\" class=\"dataframe\">\n",
              "  <thead>\n",
              "    <tr style=\"text-align: right;\">\n",
              "      <th></th>\n",
              "      <th>Unnamed: 0</th>\n",
              "      <th>STATE/UT</th>\n",
              "      <th>DISTRICT</th>\n",
              "      <th>Year</th>\n",
              "      <th>Rape</th>\n",
              "      <th>Kidnapping and Abduction</th>\n",
              "      <th>Dowry Deaths</th>\n",
              "      <th>Assault on women with intent to outrage her modesty</th>\n",
              "      <th>Insult to modesty of Women</th>\n",
              "      <th>Cruelty by Husband or his Relatives</th>\n",
              "      <th>Importation of Girls</th>\n",
              "    </tr>\n",
              "  </thead>\n",
              "  <tbody>\n",
              "    <tr>\n",
              "      <th>0</th>\n",
              "      <td>0</td>\n",
              "      <td>ANDHRA PRADESH</td>\n",
              "      <td>ADILABAD</td>\n",
              "      <td>2001</td>\n",
              "      <td>50</td>\n",
              "      <td>30</td>\n",
              "      <td>16</td>\n",
              "      <td>149</td>\n",
              "      <td>34</td>\n",
              "      <td>175</td>\n",
              "      <td>0</td>\n",
              "    </tr>\n",
              "    <tr>\n",
              "      <th>1</th>\n",
              "      <td>1</td>\n",
              "      <td>ANDHRA PRADESH</td>\n",
              "      <td>ANANTAPUR</td>\n",
              "      <td>2001</td>\n",
              "      <td>23</td>\n",
              "      <td>30</td>\n",
              "      <td>7</td>\n",
              "      <td>118</td>\n",
              "      <td>24</td>\n",
              "      <td>154</td>\n",
              "      <td>0</td>\n",
              "    </tr>\n",
              "    <tr>\n",
              "      <th>2</th>\n",
              "      <td>2</td>\n",
              "      <td>ANDHRA PRADESH</td>\n",
              "      <td>CHITTOOR</td>\n",
              "      <td>2001</td>\n",
              "      <td>27</td>\n",
              "      <td>34</td>\n",
              "      <td>14</td>\n",
              "      <td>112</td>\n",
              "      <td>83</td>\n",
              "      <td>186</td>\n",
              "      <td>0</td>\n",
              "    </tr>\n",
              "    <tr>\n",
              "      <th>3</th>\n",
              "      <td>3</td>\n",
              "      <td>ANDHRA PRADESH</td>\n",
              "      <td>CUDDAPAH</td>\n",
              "      <td>2001</td>\n",
              "      <td>20</td>\n",
              "      <td>20</td>\n",
              "      <td>17</td>\n",
              "      <td>126</td>\n",
              "      <td>38</td>\n",
              "      <td>57</td>\n",
              "      <td>0</td>\n",
              "    </tr>\n",
              "    <tr>\n",
              "      <th>4</th>\n",
              "      <td>4</td>\n",
              "      <td>ANDHRA PRADESH</td>\n",
              "      <td>EAST GODAVARI</td>\n",
              "      <td>2001</td>\n",
              "      <td>23</td>\n",
              "      <td>26</td>\n",
              "      <td>12</td>\n",
              "      <td>109</td>\n",
              "      <td>58</td>\n",
              "      <td>247</td>\n",
              "      <td>0</td>\n",
              "    </tr>\n",
              "    <tr>\n",
              "      <th>...</th>\n",
              "      <td>...</td>\n",
              "      <td>...</td>\n",
              "      <td>...</td>\n",
              "      <td>...</td>\n",
              "      <td>...</td>\n",
              "      <td>...</td>\n",
              "      <td>...</td>\n",
              "      <td>...</td>\n",
              "      <td>...</td>\n",
              "      <td>...</td>\n",
              "      <td>...</td>\n",
              "    </tr>\n",
              "    <tr>\n",
              "      <th>10672</th>\n",
              "      <td>832</td>\n",
              "      <td>Lakshadweep</td>\n",
              "      <td>Lakshadweep</td>\n",
              "      <td>2014</td>\n",
              "      <td>1</td>\n",
              "      <td>0</td>\n",
              "      <td>0</td>\n",
              "      <td>1</td>\n",
              "      <td>2</td>\n",
              "      <td>0</td>\n",
              "      <td>0</td>\n",
              "    </tr>\n",
              "    <tr>\n",
              "      <th>10673</th>\n",
              "      <td>833</td>\n",
              "      <td>Lakshadweep</td>\n",
              "      <td>Total District(s)</td>\n",
              "      <td>2014</td>\n",
              "      <td>1</td>\n",
              "      <td>0</td>\n",
              "      <td>0</td>\n",
              "      <td>1</td>\n",
              "      <td>2</td>\n",
              "      <td>0</td>\n",
              "      <td>0</td>\n",
              "    </tr>\n",
              "    <tr>\n",
              "      <th>10674</th>\n",
              "      <td>834</td>\n",
              "      <td>Puducherry</td>\n",
              "      <td>Karaikal</td>\n",
              "      <td>2014</td>\n",
              "      <td>3</td>\n",
              "      <td>1</td>\n",
              "      <td>0</td>\n",
              "      <td>12</td>\n",
              "      <td>1</td>\n",
              "      <td>1</td>\n",
              "      <td>0</td>\n",
              "    </tr>\n",
              "    <tr>\n",
              "      <th>10675</th>\n",
              "      <td>835</td>\n",
              "      <td>Puducherry</td>\n",
              "      <td>Puducherry</td>\n",
              "      <td>2014</td>\n",
              "      <td>7</td>\n",
              "      <td>6</td>\n",
              "      <td>1</td>\n",
              "      <td>20</td>\n",
              "      <td>7</td>\n",
              "      <td>3</td>\n",
              "      <td>0</td>\n",
              "    </tr>\n",
              "    <tr>\n",
              "      <th>10676</th>\n",
              "      <td>836</td>\n",
              "      <td>Puducherry</td>\n",
              "      <td>Total District(s)</td>\n",
              "      <td>2014</td>\n",
              "      <td>10</td>\n",
              "      <td>7</td>\n",
              "      <td>1</td>\n",
              "      <td>32</td>\n",
              "      <td>8</td>\n",
              "      <td>4</td>\n",
              "      <td>0</td>\n",
              "    </tr>\n",
              "  </tbody>\n",
              "</table>\n",
              "<p>10677 rows × 11 columns</p>\n",
              "</div>\n",
              "    <div class=\"colab-df-buttons\">\n",
              "\n",
              "  <div class=\"colab-df-container\">\n",
              "    <button class=\"colab-df-convert\" onclick=\"convertToInteractive('df-32b5e80b-a4ec-4562-b2e5-732853f57e76')\"\n",
              "            title=\"Convert this dataframe to an interactive table.\"\n",
              "            style=\"display:none;\">\n",
              "\n",
              "  <svg xmlns=\"http://www.w3.org/2000/svg\" height=\"24px\" viewBox=\"0 -960 960 960\">\n",
              "    <path d=\"M120-120v-720h720v720H120Zm60-500h600v-160H180v160Zm220 220h160v-160H400v160Zm0 220h160v-160H400v160ZM180-400h160v-160H180v160Zm440 0h160v-160H620v160ZM180-180h160v-160H180v160Zm440 0h160v-160H620v160Z\"/>\n",
              "  </svg>\n",
              "    </button>\n",
              "\n",
              "  <style>\n",
              "    .colab-df-container {\n",
              "      display:flex;\n",
              "      gap: 12px;\n",
              "    }\n",
              "\n",
              "    .colab-df-convert {\n",
              "      background-color: #E8F0FE;\n",
              "      border: none;\n",
              "      border-radius: 50%;\n",
              "      cursor: pointer;\n",
              "      display: none;\n",
              "      fill: #1967D2;\n",
              "      height: 32px;\n",
              "      padding: 0 0 0 0;\n",
              "      width: 32px;\n",
              "    }\n",
              "\n",
              "    .colab-df-convert:hover {\n",
              "      background-color: #E2EBFA;\n",
              "      box-shadow: 0px 1px 2px rgba(60, 64, 67, 0.3), 0px 1px 3px 1px rgba(60, 64, 67, 0.15);\n",
              "      fill: #174EA6;\n",
              "    }\n",
              "\n",
              "    .colab-df-buttons div {\n",
              "      margin-bottom: 4px;\n",
              "    }\n",
              "\n",
              "    [theme=dark] .colab-df-convert {\n",
              "      background-color: #3B4455;\n",
              "      fill: #D2E3FC;\n",
              "    }\n",
              "\n",
              "    [theme=dark] .colab-df-convert:hover {\n",
              "      background-color: #434B5C;\n",
              "      box-shadow: 0px 1px 3px 1px rgba(0, 0, 0, 0.15);\n",
              "      filter: drop-shadow(0px 1px 2px rgba(0, 0, 0, 0.3));\n",
              "      fill: #FFFFFF;\n",
              "    }\n",
              "  </style>\n",
              "\n",
              "    <script>\n",
              "      const buttonEl =\n",
              "        document.querySelector('#df-32b5e80b-a4ec-4562-b2e5-732853f57e76 button.colab-df-convert');\n",
              "      buttonEl.style.display =\n",
              "        google.colab.kernel.accessAllowed ? 'block' : 'none';\n",
              "\n",
              "      async function convertToInteractive(key) {\n",
              "        const element = document.querySelector('#df-32b5e80b-a4ec-4562-b2e5-732853f57e76');\n",
              "        const dataTable =\n",
              "          await google.colab.kernel.invokeFunction('convertToInteractive',\n",
              "                                                    [key], {});\n",
              "        if (!dataTable) return;\n",
              "\n",
              "        const docLinkHtml = 'Like what you see? Visit the ' +\n",
              "          '<a target=\"_blank\" href=https://colab.research.google.com/notebooks/data_table.ipynb>data table notebook</a>'\n",
              "          + ' to learn more about interactive tables.';\n",
              "        element.innerHTML = '';\n",
              "        dataTable['output_type'] = 'display_data';\n",
              "        await google.colab.output.renderOutput(dataTable, element);\n",
              "        const docLink = document.createElement('div');\n",
              "        docLink.innerHTML = docLinkHtml;\n",
              "        element.appendChild(docLink);\n",
              "      }\n",
              "    </script>\n",
              "  </div>\n",
              "\n",
              "\n",
              "<div id=\"df-59da3d48-c645-4050-b3d1-be4ca82b1077\">\n",
              "  <button class=\"colab-df-quickchart\" onclick=\"quickchart('df-59da3d48-c645-4050-b3d1-be4ca82b1077')\"\n",
              "            title=\"Suggest charts\"\n",
              "            style=\"display:none;\">\n",
              "\n",
              "<svg xmlns=\"http://www.w3.org/2000/svg\" height=\"24px\"viewBox=\"0 0 24 24\"\n",
              "     width=\"24px\">\n",
              "    <g>\n",
              "        <path d=\"M19 3H5c-1.1 0-2 .9-2 2v14c0 1.1.9 2 2 2h14c1.1 0 2-.9 2-2V5c0-1.1-.9-2-2-2zM9 17H7v-7h2v7zm4 0h-2V7h2v10zm4 0h-2v-4h2v4z\"/>\n",
              "    </g>\n",
              "</svg>\n",
              "  </button>\n",
              "\n",
              "<style>\n",
              "  .colab-df-quickchart {\n",
              "      --bg-color: #E8F0FE;\n",
              "      --fill-color: #1967D2;\n",
              "      --hover-bg-color: #E2EBFA;\n",
              "      --hover-fill-color: #174EA6;\n",
              "      --disabled-fill-color: #AAA;\n",
              "      --disabled-bg-color: #DDD;\n",
              "  }\n",
              "\n",
              "  [theme=dark] .colab-df-quickchart {\n",
              "      --bg-color: #3B4455;\n",
              "      --fill-color: #D2E3FC;\n",
              "      --hover-bg-color: #434B5C;\n",
              "      --hover-fill-color: #FFFFFF;\n",
              "      --disabled-bg-color: #3B4455;\n",
              "      --disabled-fill-color: #666;\n",
              "  }\n",
              "\n",
              "  .colab-df-quickchart {\n",
              "    background-color: var(--bg-color);\n",
              "    border: none;\n",
              "    border-radius: 50%;\n",
              "    cursor: pointer;\n",
              "    display: none;\n",
              "    fill: var(--fill-color);\n",
              "    height: 32px;\n",
              "    padding: 0;\n",
              "    width: 32px;\n",
              "  }\n",
              "\n",
              "  .colab-df-quickchart:hover {\n",
              "    background-color: var(--hover-bg-color);\n",
              "    box-shadow: 0 1px 2px rgba(60, 64, 67, 0.3), 0 1px 3px 1px rgba(60, 64, 67, 0.15);\n",
              "    fill: var(--button-hover-fill-color);\n",
              "  }\n",
              "\n",
              "  .colab-df-quickchart-complete:disabled,\n",
              "  .colab-df-quickchart-complete:disabled:hover {\n",
              "    background-color: var(--disabled-bg-color);\n",
              "    fill: var(--disabled-fill-color);\n",
              "    box-shadow: none;\n",
              "  }\n",
              "\n",
              "  .colab-df-spinner {\n",
              "    border: 2px solid var(--fill-color);\n",
              "    border-color: transparent;\n",
              "    border-bottom-color: var(--fill-color);\n",
              "    animation:\n",
              "      spin 1s steps(1) infinite;\n",
              "  }\n",
              "\n",
              "  @keyframes spin {\n",
              "    0% {\n",
              "      border-color: transparent;\n",
              "      border-bottom-color: var(--fill-color);\n",
              "      border-left-color: var(--fill-color);\n",
              "    }\n",
              "    20% {\n",
              "      border-color: transparent;\n",
              "      border-left-color: var(--fill-color);\n",
              "      border-top-color: var(--fill-color);\n",
              "    }\n",
              "    30% {\n",
              "      border-color: transparent;\n",
              "      border-left-color: var(--fill-color);\n",
              "      border-top-color: var(--fill-color);\n",
              "      border-right-color: var(--fill-color);\n",
              "    }\n",
              "    40% {\n",
              "      border-color: transparent;\n",
              "      border-right-color: var(--fill-color);\n",
              "      border-top-color: var(--fill-color);\n",
              "    }\n",
              "    60% {\n",
              "      border-color: transparent;\n",
              "      border-right-color: var(--fill-color);\n",
              "    }\n",
              "    80% {\n",
              "      border-color: transparent;\n",
              "      border-right-color: var(--fill-color);\n",
              "      border-bottom-color: var(--fill-color);\n",
              "    }\n",
              "    90% {\n",
              "      border-color: transparent;\n",
              "      border-bottom-color: var(--fill-color);\n",
              "    }\n",
              "  }\n",
              "</style>\n",
              "\n",
              "  <script>\n",
              "    async function quickchart(key) {\n",
              "      const quickchartButtonEl =\n",
              "        document.querySelector('#' + key + ' button');\n",
              "      quickchartButtonEl.disabled = true;  // To prevent multiple clicks.\n",
              "      quickchartButtonEl.classList.add('colab-df-spinner');\n",
              "      try {\n",
              "        const charts = await google.colab.kernel.invokeFunction(\n",
              "            'suggestCharts', [key], {});\n",
              "      } catch (error) {\n",
              "        console.error('Error during call to suggestCharts:', error);\n",
              "      }\n",
              "      quickchartButtonEl.classList.remove('colab-df-spinner');\n",
              "      quickchartButtonEl.classList.add('colab-df-quickchart-complete');\n",
              "    }\n",
              "    (() => {\n",
              "      let quickchartButtonEl =\n",
              "        document.querySelector('#df-59da3d48-c645-4050-b3d1-be4ca82b1077 button');\n",
              "      quickchartButtonEl.style.display =\n",
              "        google.colab.kernel.accessAllowed ? 'block' : 'none';\n",
              "    })();\n",
              "  </script>\n",
              "</div>\n",
              "    </div>\n",
              "  </div>\n"
            ]
          },
          "metadata": {},
          "execution_count": 3
        }
      ]
    },
    {
      "cell_type": "code",
      "source": [
        "df.describe()"
      ],
      "metadata": {
        "id": "u3OeTGcGp2sY",
        "outputId": "1471b514-43dd-4daf-e435-ba1115866d0e",
        "colab": {
          "base_uri": "https://localhost:8080/",
          "height": 318
        }
      },
      "execution_count": 4,
      "outputs": [
        {
          "output_type": "execute_result",
          "data": {
            "text/plain": [
              "         Unnamed: 0          Year          Rape  Kidnapping and Abduction  \\\n",
              "count  10677.000000  10677.000000  10677.000000              10677.000000   \n",
              "mean    3871.570198   2007.697949     57.989885                 69.888358   \n",
              "std     2816.369918      4.046874    214.230398                311.623450   \n",
              "min        0.000000   2001.000000      0.000000                  0.000000   \n",
              "25%     1009.000000   2004.000000      8.000000                  6.000000   \n",
              "50%     3678.000000   2008.000000     22.000000                 20.000000   \n",
              "75%     6347.000000   2011.000000     44.000000                 49.000000   \n",
              "max     9016.000000   2014.000000   5076.000000              10626.000000   \n",
              "\n",
              "       Dowry Deaths  Assault on women with intent to outrage her modesty  \\\n",
              "count  10677.000000                                       10677.000000     \n",
              "mean      20.181699                                         113.539196     \n",
              "std       98.276531                                         458.903951     \n",
              "min        0.000000                                           0.000000     \n",
              "25%        1.000000                                          10.000000     \n",
              "50%        5.000000                                          34.000000     \n",
              "75%       16.000000                                          85.000000     \n",
              "max     2469.000000                                       10001.000000     \n",
              "\n",
              "       Insult to modesty of Women  Cruelty by Husband or his Relatives  \\\n",
              "count                10677.000000                         10677.000000   \n",
              "mean                    27.419313                           209.224314   \n",
              "std                    167.806797                           905.664362   \n",
              "min                      0.000000                             0.000000   \n",
              "25%                      0.000000                            11.000000   \n",
              "50%                      2.000000                            50.000000   \n",
              "75%                     12.000000                           144.000000   \n",
              "max                   4970.000000                         23278.000000   \n",
              "\n",
              "       Importation of Girls  \n",
              "count          10677.000000  \n",
              "mean               0.175330  \n",
              "std                2.228637  \n",
              "min                0.000000  \n",
              "25%                0.000000  \n",
              "50%                0.000000  \n",
              "75%                0.000000  \n",
              "max               83.000000  "
            ],
            "text/html": [
              "\n",
              "  <div id=\"df-2b0f7fa8-aa7d-44e1-8476-46b61a7cc14d\" class=\"colab-df-container\">\n",
              "    <div>\n",
              "<style scoped>\n",
              "    .dataframe tbody tr th:only-of-type {\n",
              "        vertical-align: middle;\n",
              "    }\n",
              "\n",
              "    .dataframe tbody tr th {\n",
              "        vertical-align: top;\n",
              "    }\n",
              "\n",
              "    .dataframe thead th {\n",
              "        text-align: right;\n",
              "    }\n",
              "</style>\n",
              "<table border=\"1\" class=\"dataframe\">\n",
              "  <thead>\n",
              "    <tr style=\"text-align: right;\">\n",
              "      <th></th>\n",
              "      <th>Unnamed: 0</th>\n",
              "      <th>Year</th>\n",
              "      <th>Rape</th>\n",
              "      <th>Kidnapping and Abduction</th>\n",
              "      <th>Dowry Deaths</th>\n",
              "      <th>Assault on women with intent to outrage her modesty</th>\n",
              "      <th>Insult to modesty of Women</th>\n",
              "      <th>Cruelty by Husband or his Relatives</th>\n",
              "      <th>Importation of Girls</th>\n",
              "    </tr>\n",
              "  </thead>\n",
              "  <tbody>\n",
              "    <tr>\n",
              "      <th>count</th>\n",
              "      <td>10677.000000</td>\n",
              "      <td>10677.000000</td>\n",
              "      <td>10677.000000</td>\n",
              "      <td>10677.000000</td>\n",
              "      <td>10677.000000</td>\n",
              "      <td>10677.000000</td>\n",
              "      <td>10677.000000</td>\n",
              "      <td>10677.000000</td>\n",
              "      <td>10677.000000</td>\n",
              "    </tr>\n",
              "    <tr>\n",
              "      <th>mean</th>\n",
              "      <td>3871.570198</td>\n",
              "      <td>2007.697949</td>\n",
              "      <td>57.989885</td>\n",
              "      <td>69.888358</td>\n",
              "      <td>20.181699</td>\n",
              "      <td>113.539196</td>\n",
              "      <td>27.419313</td>\n",
              "      <td>209.224314</td>\n",
              "      <td>0.175330</td>\n",
              "    </tr>\n",
              "    <tr>\n",
              "      <th>std</th>\n",
              "      <td>2816.369918</td>\n",
              "      <td>4.046874</td>\n",
              "      <td>214.230398</td>\n",
              "      <td>311.623450</td>\n",
              "      <td>98.276531</td>\n",
              "      <td>458.903951</td>\n",
              "      <td>167.806797</td>\n",
              "      <td>905.664362</td>\n",
              "      <td>2.228637</td>\n",
              "    </tr>\n",
              "    <tr>\n",
              "      <th>min</th>\n",
              "      <td>0.000000</td>\n",
              "      <td>2001.000000</td>\n",
              "      <td>0.000000</td>\n",
              "      <td>0.000000</td>\n",
              "      <td>0.000000</td>\n",
              "      <td>0.000000</td>\n",
              "      <td>0.000000</td>\n",
              "      <td>0.000000</td>\n",
              "      <td>0.000000</td>\n",
              "    </tr>\n",
              "    <tr>\n",
              "      <th>25%</th>\n",
              "      <td>1009.000000</td>\n",
              "      <td>2004.000000</td>\n",
              "      <td>8.000000</td>\n",
              "      <td>6.000000</td>\n",
              "      <td>1.000000</td>\n",
              "      <td>10.000000</td>\n",
              "      <td>0.000000</td>\n",
              "      <td>11.000000</td>\n",
              "      <td>0.000000</td>\n",
              "    </tr>\n",
              "    <tr>\n",
              "      <th>50%</th>\n",
              "      <td>3678.000000</td>\n",
              "      <td>2008.000000</td>\n",
              "      <td>22.000000</td>\n",
              "      <td>20.000000</td>\n",
              "      <td>5.000000</td>\n",
              "      <td>34.000000</td>\n",
              "      <td>2.000000</td>\n",
              "      <td>50.000000</td>\n",
              "      <td>0.000000</td>\n",
              "    </tr>\n",
              "    <tr>\n",
              "      <th>75%</th>\n",
              "      <td>6347.000000</td>\n",
              "      <td>2011.000000</td>\n",
              "      <td>44.000000</td>\n",
              "      <td>49.000000</td>\n",
              "      <td>16.000000</td>\n",
              "      <td>85.000000</td>\n",
              "      <td>12.000000</td>\n",
              "      <td>144.000000</td>\n",
              "      <td>0.000000</td>\n",
              "    </tr>\n",
              "    <tr>\n",
              "      <th>max</th>\n",
              "      <td>9016.000000</td>\n",
              "      <td>2014.000000</td>\n",
              "      <td>5076.000000</td>\n",
              "      <td>10626.000000</td>\n",
              "      <td>2469.000000</td>\n",
              "      <td>10001.000000</td>\n",
              "      <td>4970.000000</td>\n",
              "      <td>23278.000000</td>\n",
              "      <td>83.000000</td>\n",
              "    </tr>\n",
              "  </tbody>\n",
              "</table>\n",
              "</div>\n",
              "    <div class=\"colab-df-buttons\">\n",
              "\n",
              "  <div class=\"colab-df-container\">\n",
              "    <button class=\"colab-df-convert\" onclick=\"convertToInteractive('df-2b0f7fa8-aa7d-44e1-8476-46b61a7cc14d')\"\n",
              "            title=\"Convert this dataframe to an interactive table.\"\n",
              "            style=\"display:none;\">\n",
              "\n",
              "  <svg xmlns=\"http://www.w3.org/2000/svg\" height=\"24px\" viewBox=\"0 -960 960 960\">\n",
              "    <path d=\"M120-120v-720h720v720H120Zm60-500h600v-160H180v160Zm220 220h160v-160H400v160Zm0 220h160v-160H400v160ZM180-400h160v-160H180v160Zm440 0h160v-160H620v160ZM180-180h160v-160H180v160Zm440 0h160v-160H620v160Z\"/>\n",
              "  </svg>\n",
              "    </button>\n",
              "\n",
              "  <style>\n",
              "    .colab-df-container {\n",
              "      display:flex;\n",
              "      gap: 12px;\n",
              "    }\n",
              "\n",
              "    .colab-df-convert {\n",
              "      background-color: #E8F0FE;\n",
              "      border: none;\n",
              "      border-radius: 50%;\n",
              "      cursor: pointer;\n",
              "      display: none;\n",
              "      fill: #1967D2;\n",
              "      height: 32px;\n",
              "      padding: 0 0 0 0;\n",
              "      width: 32px;\n",
              "    }\n",
              "\n",
              "    .colab-df-convert:hover {\n",
              "      background-color: #E2EBFA;\n",
              "      box-shadow: 0px 1px 2px rgba(60, 64, 67, 0.3), 0px 1px 3px 1px rgba(60, 64, 67, 0.15);\n",
              "      fill: #174EA6;\n",
              "    }\n",
              "\n",
              "    .colab-df-buttons div {\n",
              "      margin-bottom: 4px;\n",
              "    }\n",
              "\n",
              "    [theme=dark] .colab-df-convert {\n",
              "      background-color: #3B4455;\n",
              "      fill: #D2E3FC;\n",
              "    }\n",
              "\n",
              "    [theme=dark] .colab-df-convert:hover {\n",
              "      background-color: #434B5C;\n",
              "      box-shadow: 0px 1px 3px 1px rgba(0, 0, 0, 0.15);\n",
              "      filter: drop-shadow(0px 1px 2px rgba(0, 0, 0, 0.3));\n",
              "      fill: #FFFFFF;\n",
              "    }\n",
              "  </style>\n",
              "\n",
              "    <script>\n",
              "      const buttonEl =\n",
              "        document.querySelector('#df-2b0f7fa8-aa7d-44e1-8476-46b61a7cc14d button.colab-df-convert');\n",
              "      buttonEl.style.display =\n",
              "        google.colab.kernel.accessAllowed ? 'block' : 'none';\n",
              "\n",
              "      async function convertToInteractive(key) {\n",
              "        const element = document.querySelector('#df-2b0f7fa8-aa7d-44e1-8476-46b61a7cc14d');\n",
              "        const dataTable =\n",
              "          await google.colab.kernel.invokeFunction('convertToInteractive',\n",
              "                                                    [key], {});\n",
              "        if (!dataTable) return;\n",
              "\n",
              "        const docLinkHtml = 'Like what you see? Visit the ' +\n",
              "          '<a target=\"_blank\" href=https://colab.research.google.com/notebooks/data_table.ipynb>data table notebook</a>'\n",
              "          + ' to learn more about interactive tables.';\n",
              "        element.innerHTML = '';\n",
              "        dataTable['output_type'] = 'display_data';\n",
              "        await google.colab.output.renderOutput(dataTable, element);\n",
              "        const docLink = document.createElement('div');\n",
              "        docLink.innerHTML = docLinkHtml;\n",
              "        element.appendChild(docLink);\n",
              "      }\n",
              "    </script>\n",
              "  </div>\n",
              "\n",
              "\n",
              "<div id=\"df-f997afca-b06f-49fb-921a-81a64c7c91dd\">\n",
              "  <button class=\"colab-df-quickchart\" onclick=\"quickchart('df-f997afca-b06f-49fb-921a-81a64c7c91dd')\"\n",
              "            title=\"Suggest charts\"\n",
              "            style=\"display:none;\">\n",
              "\n",
              "<svg xmlns=\"http://www.w3.org/2000/svg\" height=\"24px\"viewBox=\"0 0 24 24\"\n",
              "     width=\"24px\">\n",
              "    <g>\n",
              "        <path d=\"M19 3H5c-1.1 0-2 .9-2 2v14c0 1.1.9 2 2 2h14c1.1 0 2-.9 2-2V5c0-1.1-.9-2-2-2zM9 17H7v-7h2v7zm4 0h-2V7h2v10zm4 0h-2v-4h2v4z\"/>\n",
              "    </g>\n",
              "</svg>\n",
              "  </button>\n",
              "\n",
              "<style>\n",
              "  .colab-df-quickchart {\n",
              "      --bg-color: #E8F0FE;\n",
              "      --fill-color: #1967D2;\n",
              "      --hover-bg-color: #E2EBFA;\n",
              "      --hover-fill-color: #174EA6;\n",
              "      --disabled-fill-color: #AAA;\n",
              "      --disabled-bg-color: #DDD;\n",
              "  }\n",
              "\n",
              "  [theme=dark] .colab-df-quickchart {\n",
              "      --bg-color: #3B4455;\n",
              "      --fill-color: #D2E3FC;\n",
              "      --hover-bg-color: #434B5C;\n",
              "      --hover-fill-color: #FFFFFF;\n",
              "      --disabled-bg-color: #3B4455;\n",
              "      --disabled-fill-color: #666;\n",
              "  }\n",
              "\n",
              "  .colab-df-quickchart {\n",
              "    background-color: var(--bg-color);\n",
              "    border: none;\n",
              "    border-radius: 50%;\n",
              "    cursor: pointer;\n",
              "    display: none;\n",
              "    fill: var(--fill-color);\n",
              "    height: 32px;\n",
              "    padding: 0;\n",
              "    width: 32px;\n",
              "  }\n",
              "\n",
              "  .colab-df-quickchart:hover {\n",
              "    background-color: var(--hover-bg-color);\n",
              "    box-shadow: 0 1px 2px rgba(60, 64, 67, 0.3), 0 1px 3px 1px rgba(60, 64, 67, 0.15);\n",
              "    fill: var(--button-hover-fill-color);\n",
              "  }\n",
              "\n",
              "  .colab-df-quickchart-complete:disabled,\n",
              "  .colab-df-quickchart-complete:disabled:hover {\n",
              "    background-color: var(--disabled-bg-color);\n",
              "    fill: var(--disabled-fill-color);\n",
              "    box-shadow: none;\n",
              "  }\n",
              "\n",
              "  .colab-df-spinner {\n",
              "    border: 2px solid var(--fill-color);\n",
              "    border-color: transparent;\n",
              "    border-bottom-color: var(--fill-color);\n",
              "    animation:\n",
              "      spin 1s steps(1) infinite;\n",
              "  }\n",
              "\n",
              "  @keyframes spin {\n",
              "    0% {\n",
              "      border-color: transparent;\n",
              "      border-bottom-color: var(--fill-color);\n",
              "      border-left-color: var(--fill-color);\n",
              "    }\n",
              "    20% {\n",
              "      border-color: transparent;\n",
              "      border-left-color: var(--fill-color);\n",
              "      border-top-color: var(--fill-color);\n",
              "    }\n",
              "    30% {\n",
              "      border-color: transparent;\n",
              "      border-left-color: var(--fill-color);\n",
              "      border-top-color: var(--fill-color);\n",
              "      border-right-color: var(--fill-color);\n",
              "    }\n",
              "    40% {\n",
              "      border-color: transparent;\n",
              "      border-right-color: var(--fill-color);\n",
              "      border-top-color: var(--fill-color);\n",
              "    }\n",
              "    60% {\n",
              "      border-color: transparent;\n",
              "      border-right-color: var(--fill-color);\n",
              "    }\n",
              "    80% {\n",
              "      border-color: transparent;\n",
              "      border-right-color: var(--fill-color);\n",
              "      border-bottom-color: var(--fill-color);\n",
              "    }\n",
              "    90% {\n",
              "      border-color: transparent;\n",
              "      border-bottom-color: var(--fill-color);\n",
              "    }\n",
              "  }\n",
              "</style>\n",
              "\n",
              "  <script>\n",
              "    async function quickchart(key) {\n",
              "      const quickchartButtonEl =\n",
              "        document.querySelector('#' + key + ' button');\n",
              "      quickchartButtonEl.disabled = true;  // To prevent multiple clicks.\n",
              "      quickchartButtonEl.classList.add('colab-df-spinner');\n",
              "      try {\n",
              "        const charts = await google.colab.kernel.invokeFunction(\n",
              "            'suggestCharts', [key], {});\n",
              "      } catch (error) {\n",
              "        console.error('Error during call to suggestCharts:', error);\n",
              "      }\n",
              "      quickchartButtonEl.classList.remove('colab-df-spinner');\n",
              "      quickchartButtonEl.classList.add('colab-df-quickchart-complete');\n",
              "    }\n",
              "    (() => {\n",
              "      let quickchartButtonEl =\n",
              "        document.querySelector('#df-f997afca-b06f-49fb-921a-81a64c7c91dd button');\n",
              "      quickchartButtonEl.style.display =\n",
              "        google.colab.kernel.accessAllowed ? 'block' : 'none';\n",
              "    })();\n",
              "  </script>\n",
              "</div>\n",
              "    </div>\n",
              "  </div>\n"
            ]
          },
          "metadata": {},
          "execution_count": 4
        }
      ]
    },
    {
      "cell_type": "code",
      "source": [
        "mean = df['Dowry Deaths'].mean()\n",
        "mean"
      ],
      "metadata": {
        "id": "ud5DMETOU8hS",
        "outputId": "de525ea1-688d-4580-f0b1-b1c32406c605",
        "colab": {
          "base_uri": "https://localhost:8080/"
        }
      },
      "execution_count": 5,
      "outputs": [
        {
          "output_type": "execute_result",
          "data": {
            "text/plain": [
              "20.181698979113982"
            ]
          },
          "metadata": {},
          "execution_count": 5
        }
      ]
    },
    {
      "cell_type": "code",
      "source": [
        "median = df['Dowry Deaths'].median()\n",
        "median"
      ],
      "metadata": {
        "id": "TVB8P3FDVwxM",
        "outputId": "c567674d-561c-4395-cc37-8b02a44a0700",
        "colab": {
          "base_uri": "https://localhost:8080/"
        }
      },
      "execution_count": 6,
      "outputs": [
        {
          "output_type": "execute_result",
          "data": {
            "text/plain": [
              "5.0"
            ]
          },
          "metadata": {},
          "execution_count": 6
        }
      ]
    },
    {
      "cell_type": "code",
      "source": [
        "mode = df['Dowry Deaths'].mode()\n",
        "mode"
      ],
      "metadata": {
        "id": "0xHCgiXCVyhs",
        "outputId": "2d1b8ba6-7a05-4c94-b3d0-fcad11405a79",
        "colab": {
          "base_uri": "https://localhost:8080/"
        }
      },
      "execution_count": 7,
      "outputs": [
        {
          "output_type": "execute_result",
          "data": {
            "text/plain": [
              "0    0\n",
              "Name: Dowry Deaths, dtype: int64"
            ]
          },
          "metadata": {},
          "execution_count": 7
        }
      ]
    },
    {
      "cell_type": "code",
      "source": [
        "min = df['Dowry Deaths'].min()\n",
        "min"
      ],
      "metadata": {
        "id": "HprClRfXVzxW",
        "outputId": "72ab55c8-a7ab-4fd9-a9c8-ef921beeb442",
        "colab": {
          "base_uri": "https://localhost:8080/"
        }
      },
      "execution_count": 8,
      "outputs": [
        {
          "output_type": "execute_result",
          "data": {
            "text/plain": [
              "0"
            ]
          },
          "metadata": {},
          "execution_count": 8
        }
      ]
    },
    {
      "cell_type": "code",
      "source": [
        "max = df['Dowry Deaths'].max()\n",
        "max"
      ],
      "metadata": {
        "id": "sA2gR7IAV1k3",
        "outputId": "c7c67faa-8c61-4514-b5c1-b07289a054e9",
        "colab": {
          "base_uri": "https://localhost:8080/"
        }
      },
      "execution_count": 9,
      "outputs": [
        {
          "output_type": "execute_result",
          "data": {
            "text/plain": [
              "2469"
            ]
          },
          "metadata": {},
          "execution_count": 9
        }
      ]
    },
    {
      "cell_type": "code",
      "source": [
        "std = df['Dowry Deaths'].std()\n",
        "std"
      ],
      "metadata": {
        "id": "BWeXHW3Vovz4",
        "outputId": "a23c29a2-fe6d-46d6-a660-79e8692c38dc",
        "colab": {
          "base_uri": "https://localhost:8080/"
        }
      },
      "execution_count": 10,
      "outputs": [
        {
          "output_type": "execute_result",
          "data": {
            "text/plain": [
              "98.27653057365363"
            ]
          },
          "metadata": {},
          "execution_count": 10
        }
      ]
    },
    {
      "cell_type": "markdown",
      "source": [
        "Вычислите следующие квантили: 25%, 50% (медиана), 75% для числового признака вашего датасета. Затем найдите интерквартильный размах."
      ],
      "metadata": {
        "id": "dZEVd9QIVMyV"
      }
    },
    {
      "cell_type": "code",
      "source": [
        "q1 = df['Dowry Deaths'].quantile(0.25)\n",
        "q1"
      ],
      "metadata": {
        "id": "2UMcBq9dVbVE",
        "outputId": "958f2f5e-487d-40a9-ffbd-ce862e8ff3a2",
        "colab": {
          "base_uri": "https://localhost:8080/"
        }
      },
      "execution_count": 11,
      "outputs": [
        {
          "output_type": "execute_result",
          "data": {
            "text/plain": [
              "1.0"
            ]
          },
          "metadata": {},
          "execution_count": 11
        }
      ]
    },
    {
      "cell_type": "code",
      "source": [
        "q2 = df['Dowry Deaths'].quantile(0.5)\n",
        "q2"
      ],
      "metadata": {
        "id": "8joJvKduWJsC",
        "outputId": "8b5a470f-e946-461c-e699-2dfd522f6fa6",
        "colab": {
          "base_uri": "https://localhost:8080/"
        }
      },
      "execution_count": 12,
      "outputs": [
        {
          "output_type": "execute_result",
          "data": {
            "text/plain": [
              "5.0"
            ]
          },
          "metadata": {},
          "execution_count": 12
        }
      ]
    },
    {
      "cell_type": "code",
      "source": [
        "q3 = df['Dowry Deaths'].quantile(0.75)\n",
        "q3"
      ],
      "metadata": {
        "id": "pQTQqM3GWLOV",
        "outputId": "2837efb1-1599-4cd4-a3d8-373712f5997a",
        "colab": {
          "base_uri": "https://localhost:8080/"
        }
      },
      "execution_count": 13,
      "outputs": [
        {
          "output_type": "execute_result",
          "data": {
            "text/plain": [
              "16.0"
            ]
          },
          "metadata": {},
          "execution_count": 13
        }
      ]
    },
    {
      "cell_type": "markdown",
      "source": [],
      "metadata": {
        "id": "SAW8DnnK9kCL"
      }
    },
    {
      "cell_type": "code",
      "source": [
        "iqr = q3 - q1\n",
        "print(\"Первый квантиль (25%):\", q1)\n",
        "print(\"Второй квантиль (медиана) (50%):\", q2)\n",
        "print(\"Третий квантиль (75%):\", q3)\n",
        "print(\"Интерквартильный размах:\", iqr)\n",
        "print(\"Медиана (второй квантиль):\", median)\n",
        "print(\"Среднее:\", mean)\n",
        "print(\"Минимум:\", min)\n",
        "print(\"Максимум:\", max)"
      ],
      "metadata": {
        "id": "lAwZHIbfWMmH",
        "outputId": "85bb80b3-f1bc-48f2-eb5a-0698f4d1dd0f",
        "colab": {
          "base_uri": "https://localhost:8080/"
        }
      },
      "execution_count": 14,
      "outputs": [
        {
          "output_type": "stream",
          "name": "stdout",
          "text": [
            "Первый квантиль (25%): 1.0\n",
            "Второй квантиль (медиана) (50%): 5.0\n",
            "Третий квантиль (75%): 16.0\n",
            "Интерквартильный размах: 15.0\n",
            "Медиана (второй квантиль): 5.0\n",
            "Среднее: 20.181698979113982\n",
            "Минимум: 0\n",
            "Максимум: 2469\n"
          ]
        }
      ]
    },
    {
      "cell_type": "markdown",
      "source": [
        "Какие выводы можно сделать исходя из полученных статистических данных?"
      ],
      "metadata": {
        "id": "vm0-5sY4WX2I"
      }
    },
    {
      "cell_type": "markdown",
      "source": [
        "**Ответ здесь**\n",
        "\n",
        "```\n",
        "Example: видим, что среднее и отклонение различается между группами, следовательно...\n",
        "Сделать подобные выводы относительно других статистических характеристик\n",
        "```\n"
      ],
      "metadata": {
        "id": "OnO1hVGyWe8D"
      }
    },
    {
      "cell_type": "markdown",
      "source": [
        "##Основы визуализации"
      ],
      "metadata": {
        "id": "zDISZbQVWk6m"
      }
    },
    {
      "cell_type": "markdown",
      "source": [
        " Постройте гистограмму переменной (X) относительно категориального признака (Y) из своего датасета."
      ],
      "metadata": {
        "id": "aU8cakZvZBuj"
      }
    },
    {
      "cell_type": "code",
      "source": [
        "plt.figure(figsize=(4, 3))\n",
        "plt.hist(df['Dowry Deaths'], bins=6, edgecolor='black')\n",
        "plt.title('Гистограмма')\n",
        "plt.ylabel('Частота')\n",
        "plt.show()\n",
        "\n",
        "\n",
        "\n"
      ],
      "metadata": {
        "id": "9-KTIzdfZLmP",
        "outputId": "f4c2d4fc-7dcb-4904-d837-7ca5447f72b6",
        "colab": {
          "base_uri": "https://localhost:8080/",
          "height": 314
        }
      },
      "execution_count": 19,
      "outputs": [
        {
          "output_type": "display_data",
          "data": {
            "text/plain": [
              "<Figure size 400x300 with 1 Axes>"
            ],
            "image/png": "[encoded data removed]"
          },
          "metadata": {}
        }
      ]
    },
    {
      "cell_type": "markdown",
      "source": [
        "Постройте boxplot любого признака из своего датасета.\n",
        "\n",
        "1) boxplot числовой переменной;\n",
        "\n",
        "2) boxplot числовой переменной относительно категориальный переменной;\n",
        "\n",
        "*p.s. Если у вас только один числовой признак, преобразуйте категориальный при помощи LabelEncoder (https://scikit-learn.org/stable/modules/generated/sklearn.preprocessing.LabelEncoder.html)*"
      ],
      "metadata": {
        "id": "zPsEO4m1ZWDy"
      }
    },
    {
      "cell_type": "code",
      "source": [
        "\n",
        "plt.figure(figsize=(4, 3))\n",
        "plt.boxplot(df['Year'])\n",
        "plt.title('Boxplot year')\n",
        "plt.xlabel('Ранг')\n",
        "plt.show()\n"
      ],
      "metadata": {
        "id": "ccJLh1r-Zdne",
        "outputId": "f28e41da-eed4-4c82-ce96-68b4a9107d91",
        "colab": {
          "base_uri": "https://localhost:8080/",
          "height": 333
        }
      },
      "execution_count": 17,
      "outputs": [
        {
          "output_type": "display_data",
          "data": {
            "text/plain": [
              "<Figure size 400x300 with 1 Axes>"
            ],
            "image/png": "[encoded data removed]"
          },
          "metadata": {}
        }
      ]
    },
    {
      "cell_type": "code",
      "source": [
        "\n",
        "plt.figure(figsize=(4, 3))\n",
        "plt.boxplot(df['Dowry Deaths'])\n",
        "plt.title('Boxplot Dowry Deaths')\n",
        "plt.xlabel('Ранг')\n",
        "plt.show()"
      ],
      "metadata": {
        "id": "9ZRV3jjlq9NN",
        "outputId": "10db80ed-5b4a-493b-d401-a7a6fb2558c6",
        "colab": {
          "base_uri": "https://localhost:8080/",
          "height": 333
        }
      },
      "execution_count": 20,
      "outputs": [
        {
          "output_type": "display_data",
          "data": {
            "text/plain": [
              "<Figure size 400x300 with 1 Axes>"
            ],
            "image/png": "[encoded data removed]"
          },
          "metadata": {}
        }
      ]
    },
    {
      "cell_type": "markdown",
      "source": [
        "Постройте диаграмму рассеивания для числовых признаков вашего датасета.\n",
        "\n",
        "*p.s. Если у вас только один числовой признак, преобразуйте категориальный при помощи LabelEncoder (https://scikit-learn.org/stable/modules/generated/sklearn.preprocessing.LabelEncoder.html)*"
      ],
      "metadata": {
        "id": "mj8cdITDZh53"
      }
    },
    {
      "cell_type": "code",
      "source": [
        "\n",
        "plt.figure(figsize=(10, 10))\n",
        "plt.scatter(df['Dowry Deaths'], df['Rape'], color='pink')\n",
        "plt.title('Диаграмма рассеивания')\n",
        "plt.xlabel('Dowry Deaths')\n",
        "plt.ylabel('кол-во Rape')\n",
        "plt.show()\n",
        ""
      ],
      "metadata": {
        "id": "V2-ZoNUcZ_2l",
        "outputId": "b3bf6dd1-fea5-4463-c600-f78c193933d2",
        "colab": {
          "base_uri": "https://localhost:8080/",
          "height": 872
        }
      },
      "execution_count": 27,
      "outputs": [
        {
          "output_type": "display_data",
          "data": {
            "text/plain": [
              "<Figure size 1000x1000 with 1 Axes>"
            ],
            "image/png": "[encoded data removed]"
          },
          "metadata": {}
        }
      ]
    },
    {
      "cell_type": "markdown",
      "source": [
        "Постройте матрицу корреляции для двух числовых признаков вашего датасета."
      ],
      "metadata": {
        "id": "S-jG4a5SaFXS"
      }
    },
    {
      "cell_type": "code",
      "source": [
        "corr_matrix = df[[\"Rape\", \"Dowry Deaths\"]].corr()\n",
        "sns.heatmap(corr_matrix, annot=True)"
      ],
      "metadata": {
        "id": "u_lOnPtjnfbq",
        "outputId": "5fff0fe1-5137-469a-9598-432cb028a9f6",
        "colab": {
          "base_uri": "https://localhost:8080/",
          "height": 452
        }
      },
      "execution_count": 25,
      "outputs": [
        {
          "output_type": "execute_result",
          "data": {
            "text/plain": [
              "<Axes: >"
            ]
          },
          "metadata": {},
          "execution_count": 25
        },
        {
          "output_type": "display_data",
          "data": {
            "text/plain": [
              "<Figure size 640x480 with 2 Axes>"
            ],
            "image/png": "[encoded data removed]"
          },
          "metadata": {}
        }
      ]
    },
    {
      "cell_type": "markdown",
      "source": [
        "Какие выводы можно сделать на основе графиков и матрицы корреляции?"
      ],
      "metadata": {
        "id": "2MVHWXICaoJ4"
      }
    },
    {
      "cell_type": "markdown",
      "source": [
        "**Ответ здесь**"
      ],
      "metadata": {
        "id": "HFAFaiNzatLN"
      }
    },
    {
      "cell_type": "markdown",
      "source": [
        "##Задание для гениев*"
      ],
      "metadata": {
        "id": "K5HCSPTPbwfJ"
      }
    },
    {
      "cell_type": "markdown",
      "source": [
        "Реализовать следующие методы поиска выбросов:\n",
        "1. На основе среднего и отклонения\n",
        "2. Критерий Шовене\n",
        "3. С помощью квартилей\n",
        "4. Поиск выбросов по двум переменным\n",
        "\n",
        "[Посмотреть](http://course.omgtu.ru/wp-content/uploads/2021/04/3_%D0%92%D1%8B%D0%B1%D1%80%D0%BE%D1%81%D1%8B.pdf)\n",
        "\n",
        "P.S. в качестве возвразаемого значения методов может быть:\n",
        "1. очищенный датафрейм\n",
        "2. индексы выбросов ```df.series.index```"
      ],
      "metadata": {
        "id": "pil5bgt5b98A"
      }
    },
    {
      "cell_type": "code",
      "source": [
        "\"\"\"\n",
        "\n",
        "Ваш код здесь\n",
        "\n",
        "\"\"\""
      ],
      "metadata": {
        "id": "IXM6eoIvdCBs"
      },
      "execution_count": null,
      "outputs": []
    },
    {
      "cell_type": "markdown",
      "source": [
        "### Пример реализации одного метода"
      ],
      "metadata": {
        "id": "dRQRyxdgD_sk"
      }
    },
    {
      "cell_type": "code",
      "source": [
        "from statistics import median, mean\n",
        "\n",
        "class Outline:\n",
        "  def __init__(self, df):\n",
        "    self.df = df\n",
        "\n",
        "  def delete_outline_by_mean(self, column_name):\n",
        "    mean_data = mean(self.df[column_name])\n",
        "    maximum = mean_data * 2\n",
        "    result = []\n",
        "\n",
        "    for item in self.df[column_name]:\n",
        "      if abs(item - mean_data) < maximum:\n",
        "        result.append(item)\n",
        "\n",
        "    return result\n",
        "\n"
      ],
      "metadata": {
        "id": "lJEOQcx0vavH"
      },
      "execution_count": null,
      "outputs": []
    },
    {
      "cell_type": "code",
      "source": [
        "data = pd.DataFrame(\n",
        "    data = {\n",
        "        \"col1\": [1, 2, 3, 4, 5, 1000],\n",
        "        \"col2\": [1, 2, 3, 2, 1, 4]\n",
        "    }\n",
        ")\n",
        "\n",
        "so = Outline(data)\n",
        "so.delete_outline_by_mean(\"col1\")"
      ],
      "metadata": {
        "colab": {
          "base_uri": "https://localhost:8080/"
        },
        "id": "1EViTEon8Rkj",
        "outputId": "d1fa0b6f-a127-4d89-c2c8-9597251aaac6"
      },
      "execution_count": null,
      "outputs": [
        {
          "output_type": "execute_result",
          "data": {
            "text/plain": [
              "[1, 2, 3, 4, 5]"
            ]
          },
          "metadata": {},
          "execution_count": 39
        }
      ]
    }
  ]
}